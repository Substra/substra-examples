{
  "nbformat": 4,
  "nbformat_minor": 0,
  "metadata": {
    "colab": {
      "name": "Mnist_DP_Substra_Example_Notebook",
      "provenance": [],
      "collapsed_sections": [],
      "toc_visible": true,
      "machine_shape": "hm",
      "mount_file_id": "1oYslMB-H1YEfQoZE1S3LihkmVCFXmKOX",
      "authorship_tag": "ABX9TyMY5aPD+zHMwXbrI+0Cz6me",
      "include_colab_link": true
    },
    "kernelspec": {
      "name": "python3",
      "display_name": "Python 3"
    },
    "accelerator": "GPU"
  },
  "cells": [
    {
      "cell_type": "markdown",
      "metadata": {
        "id": "view-in-github",
        "colab_type": "text"
      },
      "source": [
        "<a href=\"https://colab.research.google.com/github/SubstraFoundation/substra-examples/blob/master/mnist-dp/Mnist_DP_Substra_Example_Notebook.ipynb\" target=\"_parent\"><img src=\"https://colab.research.google.com/assets/colab-badge.svg\" alt=\"Open In Colab\"/></a>"
      ]
    },
    {
      "cell_type": "markdown",
      "metadata": {
        "id": "-4DF18EyM3rb",
        "colab_type": "text"
      },
      "source": [
        "In this Notebook, you can test the example's assets and potentially run ML tasks on a public distant VM.\n",
        "On Google Colab, you can see and modify the assets with the \"Files\" button on the left."
      ]
    },
    {
      "cell_type": "code",
      "metadata": {
        "id": "0X1CGFsjTxFp",
        "colab_type": "code",
        "colab": {
          "base_uri": "https://localhost:8080/",
          "height": 34
        },
        "outputId": "532a7e45-07d3-436e-8cf0-326525044473"
      },
      "source": [
        "try:\n",
        "  # %tensorflow_version only exists in Colab.\n",
        "  %tensorflow_version 1.x\n",
        "except Exception:\n",
        "  pass"
      ],
      "execution_count": 1,
      "outputs": [
        {
          "output_type": "stream",
          "text": [
            "TensorFlow 1.x selected.\n"
          ],
          "name": "stdout"
        }
      ]
    },
    {
      "cell_type": "markdown",
      "metadata": {
        "id": "1SJi6ACtKP0B",
        "colab_type": "text"
      },
      "source": [
        "# Mnist with Differential Privacy\n",
        "\n",
        "*This example is a Substra implementation of on the [Classification_Privacy tutorial](https://github.com/tensorflow/privacy/blob/master/tutorials/Classification_Privacy.ipynb) from [Tensorflow_Privacy](https://github.com/tensorflow/privacy). The structure of this example is inspired from [Substra's Titanic Example](https://github.com/SubstraFoundation/substra/blob/master/examples/titanic/)*\n",
        "\n",
        "> [Differential privacy](https://en.wikipedia.org/wiki/Differential_privacy) (DP) is a framework for measuring the privacy guarantees provided by an algorithm. Through the lens of differential privacy, we can design machine learning algorithms that responsibly train models on private data. Learning with differential privacy provides provable guarantees of privacy, mitigating the risk of exposing sensitive training data in machine learning. Intuitively, a model trained with differential privacy should not be affected by any single training example, or small set of training examples, in its data set. This mitigates the risk of exposing sensitive training data in ML.\n",
        ">  \n",
        "> The basic idea of this approach, called differentially private stochastic gradient descent (DP-SGD), is to modify the gradients used in stochastic gradient descent (SGD), which lies at the core of almost all deep learning algorithms. Models trained with DP-SGD provide provable differential privacy guarantees for their input data. There are two modifications made to the vanilla SGD algorithm:\n",
        ">  \n",
        "> 1. First, the sensitivity of each gradient needs to be bounded. In other words, we need to limit how much each individual training point sampled in a minibatch can influence gradient computations and the resulting updates applied to model parameters. This can be done by *clipping* each gradient computed on each training point.\n",
        "> 2. *Random noise* is sampled and added to the clipped gradients to make it statistically impossible to know whether or not a particular data point was included in the training dataset by comparing the updates SGD applies when it operates with or without this particular data point in the training dataset.\n",
        ">  \n",
        "> This tutorial uses [tf.keras](https://www.tensorflow.org/guide/keras) to train a convolutional neural network (CNN) to recognize handwritten digits with the DP-SGD optimizer provided by the TensorFlow Privacy library. TensorFlow Privacy provides code that wraps an existing TensorFlow optimizer to create a variant that implements DP-SGD.  \n",
        "> &mdash; [The TensorFlow Authors][1]\n",
        "\n",
        "[1]: https://github.com/tensorflow/privacy/blob/master/tutorials/Classification_Privacy.ipynb\n"
      ]
    },
    {
      "cell_type": "markdown",
      "metadata": {
        "id": "jFjGg7WgOb1q",
        "colab_type": "text"
      },
      "source": [
        "\n",
        "## Prerequisites\n",
        "\n",
        "In order to run this example, you'll need to:\n",
        "\n",
        "* use Python 3\n",
        "* have [Docker](https://www.docker.com/) installed\n",
        "* [install the `substra` cli](https://github.com/SubstraFoundation/substra#install) (supported version: 0.6.0)"
      ]
    },
    {
      "cell_type": "code",
      "metadata": {
        "id": "0pnSX37XNth3",
        "colab_type": "code",
        "colab": {}
      },
      "source": [
        "! pip3 install substra==0.6.0"
      ],
      "execution_count": null,
      "outputs": []
    },
    {
      "cell_type": "markdown",
      "metadata": {
        "id": "78Dg-ioqNqie",
        "colab_type": "text"
      },
      "source": [
        "\n",
        "* [install the `substratools` library](https://github.com/substrafoundation/substra-tools) (supported version: 0.6.0)\n",
        "* [pull the `substra-tools` docker images](https://github.com/substrafoundation/substra-tools#pull-from-private-docker-registry)\n",
        "* have access to a Substra installation ([configure your host to a public node ip](https://doc.substra.ai/getting_started/installation/local_install_skaffold.html#network) or [install Substra on your machine](https://doc.substra.ai/getting_started/installation/local_install_skaffold.html))"
      ]
    },
    {
      "cell_type": "code",
      "metadata": {
        "id": "OXNWTXfLdNEr",
        "colab_type": "code",
        "colab": {}
      },
      "source": [
        "#replace this ip by the ip of a distant VM running a substra node\n",
        "public_node_ip = \"127.0.0.1\""
      ],
      "execution_count": 12,
      "outputs": []
    },
    {
      "cell_type": "code",
      "metadata": {
        "id": "3Sj64EGcd2bG",
        "colab_type": "code",
        "colab": {}
      },
      "source": [
        "! echo \"{public_node_ip} substra-backend.node-1.com substra-frontend.node-1.com substra-backend.node-2.com substra-frontend.node-2.com\" | sudo tee -a /etc/hosts\n",
        "# Check if it's ok\n",
        "! curl substra-backend.node-1.com/readiness"
      ],
      "execution_count": null,
      "outputs": []
    },
    {
      "cell_type": "markdown",
      "metadata": {
        "id": "WiNgyy4odKzR",
        "colab_type": "text"
      },
      "source": [
        "\n",
        "* create a substra profile to define the substra network to target, for instance:\n"
      ]
    },
    {
      "cell_type": "code",
      "metadata": {
        "id": "njy5vYAvWoEE",
        "colab_type": "code",
        "colab": {}
      },
      "source": [
        "! substra config --profile node-1 http://substra-backend.node-1.com\n",
        "! substra login --profile node-1 --username node-1 --password 'p@$swr0d44'"
      ],
      "execution_count": null,
      "outputs": []
    },
    {
      "cell_type": "markdown",
      "metadata": {
        "id": "laY7B4rs6Ik-",
        "colab_type": "text"
      },
      "source": [
        "* checkout this repository"
      ]
    },
    {
      "cell_type": "code",
      "metadata": {
        "id": "NCaLsa5LOLTu",
        "colab_type": "code",
        "colab": {
          "base_uri": "https://localhost:8080/",
          "height": 221
        },
        "outputId": "5cb0369a-7e6e-470a-f607-f8c4cbc2d95b"
      },
      "source": [
        "%cd /content\n",
        "! git clone https://github.com/SubstraFoundation/substra-examples/\n",
        "%cd substra-examples/content/substra-examples/mnist-dp"
      ],
      "execution_count": 6,
      "outputs": [
        {
          "output_type": "stream",
          "text": [
            "/content\n",
            "Cloning into 'substra-examples'...\n",
            "remote: Enumerating objects: 94, done.\u001b[K\n",
            "remote: Counting objects: 100% (94/94), done.\u001b[K\n",
            "remote: Compressing objects: 100% (76/76), done.\u001b[K\n",
            "remote: Total 365 (delta 38), reused 61 (delta 18), pack-reused 271\u001b[K\n",
            "Receiving objects: 100% (365/365), 170.35 MiB | 38.95 MiB/s, done.\n",
            "Resolving deltas: 100% (180/180), done.\n",
            "/content/substra-examples\n",
            "Branch 'mnist-dp' set up to track remote branch 'mnist-dp' from 'origin'.\n",
            "Switched to a new branch 'mnist-dp'\n",
            "/content/substra-examples/mnist-dp\n"
          ],
          "name": "stdout"
        }
      ]
    },
    {
      "cell_type": "markdown",
      "metadata": {
        "id": "KUMkvMmyOHe5",
        "colab_type": "text"
      },
      "source": [
        "\n",
        "All commands in this example are run from the `mnist-dp` folder.\n"
      ]
    },
    {
      "cell_type": "markdown",
      "metadata": {
        "id": "bibVWArLPIoM",
        "colab_type": "text"
      },
      "source": [
        "## Data preparation\n",
        "\n",
        "The first step will be to generate train and test data from keras.datasets.mnist\n",
        "\n",
        "To generate the data, run:\n",
        "\n"
      ]
    },
    {
      "cell_type": "code",
      "metadata": {
        "id": "UBprYg-5PUvx",
        "colab_type": "code",
        "colab": {
          "base_uri": "https://localhost:8080/",
          "height": 102
        },
        "outputId": "888d61d9-e26f-466d-b56f-484526de9f58"
      },
      "source": [
        "%cd /content/substra-examples/mnist-dp\n",
        "#! pip install --upgrade pip\n",
        "#! pip install -r scripts/requirements.txt\n",
        "# requirements are already satisfied in Colab, except for substratools\n",
        "! pip install substratools==0.6.0"
      ],
      "execution_count": 7,
      "outputs": [
        {
          "output_type": "stream",
          "text": [
            "/content/substra-examples/mnist-dp\n",
            "Collecting substratools==0.6.0\n",
            "  Downloading https://files.pythonhosted.org/packages/46/90/74983a05a05259321b51516fc5404abfa169c8f39a090b53e1788b3e5cd7/substratools-0.6.0-py3-none-any.whl\n",
            "Installing collected packages: substratools\n",
            "Successfully installed substratools-0.6.0\n"
          ],
          "name": "stdout"
        }
      ]
    },
    {
      "cell_type": "code",
      "metadata": {
        "id": "3M648e_-QH4N",
        "colab_type": "code",
        "colab": {
          "base_uri": "https://localhost:8080/",
          "height": 170
        },
        "outputId": "f429e716-b585-4512-b95e-c47af0f2faf7"
      },
      "source": [
        "%cd /content/substra-examples/mnist-dp\n",
        "! python scripts/generate_data.py"
      ],
      "execution_count": 8,
      "outputs": [
        {
          "output_type": "stream",
          "text": [
            "/content/substra-examples/mnist-dp\n",
            "Loading data from keras.datasets.mnist ...\n",
            "Downloading data from https://storage.googleapis.com/tensorflow/tf-keras-datasets/mnist.npz\n",
            "11493376/11490434 [==============================] - 0s 0us/step\n",
            "Data will be generated in :  /content/substra-examples/mnist-dp/assets\n",
            "File created :  train_data/features/x_train.npy\n",
            "File created :  train_data/labels/y_train.npy\n",
            "File created :  test_data/features/x_test.npy\n",
            "File created :  test_data/labels/y_test.npy\n"
          ],
          "name": "stdout"
        }
      ]
    },
    {
      "cell_type": "markdown",
      "metadata": {
        "id": "ccjTJmyMPTiX",
        "colab_type": "text"
      },
      "source": [
        "\n",
        "\n",
        "This will create two sub-folders in the `assets` folder:\n",
        "\n",
        "* `train_data` contains train data features and labels as numpy array files\n",
        "* `test_data` contains test data features and labels as numpy array files\n",
        "\n",
        "## Writing the objective and data manager\n",
        "\n",
        "Both objective and data manager will need a proper markdown description, you can check them out in their respective\n",
        "folders. Notice that the data manager's description includes a formal description of the data structure.\n",
        "\n",
        "Notice also that the `metrics.py` and `opener.py` module both rely on classes imported from the `substratools` module.\n",
        "These classes provide a simple yet rigid structure that will make algorithms pretty easy to write.\n",
        "\n",
        "## Writing a simple algorithm\n",
        "\n",
        "You'll find under `assets/algo_cnn_dp` an implementation of the cnn model in the [Classification_Privacy tutorial](https://github.com/tensorflow/privacy/blob/master/tutorials/Classification_Privacy.ipynb). Like the metrics and opener scripts, it relies on a\n",
        "class imported from `substratools` that greatly simplifies the writing process. You'll notice that it handles not only\n",
        "the train and predict tasks but also a lot of data preprocessing.\n",
        "\n",
        "This algorithm measure the differential privacy guarantee after training the model:\n",
        "You will see in the console the value Epsilon (ϵ) - This is the privacy budget. It measures the strength of the privacy guarantee by bounding how much the probability of a particular model output can vary by including (or excluding) a single training point. A smaller value for ϵ implies a better privacy guarantee. However, the ϵ value is only an upper bound and a large value could still mean good privacy in practice.\n",
        "\n",
        "This value depends on:\n",
        "\n",
        "1. The total number of points in the training data, `n`.\n",
        "2. The `batch_size`.\n",
        "3. The `noise_multiplier`.\n",
        "4. The number of `epochs` of training.\n",
        "\n",
        "You can find a description of the hyperparameters [here](https://github.com/tensorflow/privacy/tree/master/tutorials#parameters).\n",
        "\n"
      ]
    },
    {
      "cell_type": "markdown",
      "metadata": {
        "id": "tImaUQdlRDPv",
        "colab_type": "text"
      },
      "source": [
        "## Testing our assets\n",
        "\n",
        "### Using asset command line interfaces\n",
        "\n",
        "You can first test each assets with the `substratools` CLI, by running specific ML tasks in your local Python environment.\n",
        "\n"
      ]
    },
    {
      "cell_type": "markdown",
      "metadata": {
        "id": "2sKcqmkFUNvi",
        "colab_type": "text"
      },
      "source": [
        "#### Training task\n",
        "\n",
        "\n",
        "\n"
      ]
    },
    {
      "cell_type": "code",
      "metadata": {
        "id": "yby0gIzZRQx7",
        "colab_type": "code",
        "colab": {
          "base_uri": "https://localhost:8080/",
          "height": 1000
        },
        "outputId": "a6c4d866-b0de-4477-8198-219c676000b0"
      },
      "source": [
        "# train your model with the train_data\n",
        "! python assets/algo_cnn_dp/algo.py train \\\n",
        "  --debug \\\n",
        "  --opener-path assets/dataset/opener.py \\\n",
        "  --data-samples-path assets/train_data \\\n",
        "  --output-model-path assets/model/model \\\n",
        "  --log-path assets/logs/train.log\n"
      ],
      "execution_count": 21,
      "outputs": [
        {
          "output_type": "stream",
          "text": [
            "substratools.utils - Module 'opener' loaded from path 'assets/dataset/opener.py'\n",
            "substratools.opener - loading X from '['assets/train_data/labels', 'assets/train_data/features']'\n",
            "Finding features file...\n",
            "Loading features...\n",
            "substratools.opener - loading y from '['assets/train_data/labels', 'assets/train_data/features']'\n",
            "Finding label file...\n",
            "Loading labels...\n",
            "substratools.algo - launching training task\n",
            "X shape: (60000, 28, 28, 1)\n",
            "Train on 60000 samples\n",
            "2020-08-14 15:11:18.982033: I tensorflow/stream_executor/platform/default/dso_loader.cc:44] Successfully opened dynamic library libcuda.so.1\n",
            "2020-08-14 15:11:18.997134: I tensorflow/stream_executor/cuda/cuda_gpu_executor.cc:983] successful NUMA node read from SysFS had negative value (-1), but there must be at least one NUMA node, so returning NUMA node zero\n",
            "2020-08-14 15:11:18.998074: I tensorflow/core/common_runtime/gpu/gpu_device.cc:1639] Found device 0 with properties: \n",
            "name: Tesla P100-PCIE-16GB major: 6 minor: 0 memoryClockRate(GHz): 1.3285\n",
            "pciBusID: 0000:00:04.0\n",
            "2020-08-14 15:11:18.998497: I tensorflow/stream_executor/platform/default/dso_loader.cc:44] Successfully opened dynamic library libcudart.so.10.1\n",
            "2020-08-14 15:11:19.000793: I tensorflow/stream_executor/platform/default/dso_loader.cc:44] Successfully opened dynamic library libcublas.so.10\n",
            "2020-08-14 15:11:19.002645: I tensorflow/stream_executor/platform/default/dso_loader.cc:44] Successfully opened dynamic library libcufft.so.10\n",
            "2020-08-14 15:11:19.003074: I tensorflow/stream_executor/platform/default/dso_loader.cc:44] Successfully opened dynamic library libcurand.so.10\n",
            "2020-08-14 15:11:19.004970: I tensorflow/stream_executor/platform/default/dso_loader.cc:44] Successfully opened dynamic library libcusolver.so.10\n",
            "2020-08-14 15:11:19.005766: I tensorflow/stream_executor/platform/default/dso_loader.cc:44] Successfully opened dynamic library libcusparse.so.10\n",
            "2020-08-14 15:11:19.010007: I tensorflow/stream_executor/platform/default/dso_loader.cc:44] Successfully opened dynamic library libcudnn.so.7\n",
            "2020-08-14 15:11:19.010129: I tensorflow/stream_executor/cuda/cuda_gpu_executor.cc:983] successful NUMA node read from SysFS had negative value (-1), but there must be at least one NUMA node, so returning NUMA node zero\n",
            "2020-08-14 15:11:19.011100: I tensorflow/stream_executor/cuda/cuda_gpu_executor.cc:983] successful NUMA node read from SysFS had negative value (-1), but there must be at least one NUMA node, so returning NUMA node zero\n",
            "2020-08-14 15:11:19.012001: I tensorflow/core/common_runtime/gpu/gpu_device.cc:1767] Adding visible gpu devices: 0\n",
            "2020-08-14 15:11:19.017254: I tensorflow/core/platform/profile_utils/cpu_utils.cc:94] CPU Frequency: 2300000000 Hz\n",
            "2020-08-14 15:11:19.017743: I tensorflow/compiler/xla/service/service.cc:168] XLA service 0x1dcea00 initialized for platform Host (this does not guarantee that XLA will be used). Devices:\n",
            "2020-08-14 15:11:19.017784: I tensorflow/compiler/xla/service/service.cc:176]   StreamExecutor device (0): Host, Default Version\n",
            "2020-08-14 15:11:19.109378: I tensorflow/stream_executor/cuda/cuda_gpu_executor.cc:983] successful NUMA node read from SysFS had negative value (-1), but there must be at least one NUMA node, so returning NUMA node zero\n",
            "2020-08-14 15:11:19.110647: I tensorflow/compiler/xla/service/service.cc:168] XLA service 0x1dcebc0 initialized for platform CUDA (this does not guarantee that XLA will be used). Devices:\n",
            "2020-08-14 15:11:19.110686: I tensorflow/compiler/xla/service/service.cc:176]   StreamExecutor device (0): Tesla P100-PCIE-16GB, Compute Capability 6.0\n",
            "2020-08-14 15:11:19.110906: I tensorflow/stream_executor/cuda/cuda_gpu_executor.cc:983] successful NUMA node read from SysFS had negative value (-1), but there must be at least one NUMA node, so returning NUMA node zero\n",
            "2020-08-14 15:11:19.111901: I tensorflow/core/common_runtime/gpu/gpu_device.cc:1639] Found device 0 with properties: \n",
            "name: Tesla P100-PCIE-16GB major: 6 minor: 0 memoryClockRate(GHz): 1.3285\n",
            "pciBusID: 0000:00:04.0\n",
            "2020-08-14 15:11:19.112049: I tensorflow/stream_executor/platform/default/dso_loader.cc:44] Successfully opened dynamic library libcudart.so.10.1\n",
            "2020-08-14 15:11:19.112114: I tensorflow/stream_executor/platform/default/dso_loader.cc:44] Successfully opened dynamic library libcublas.so.10\n",
            "2020-08-14 15:11:19.112140: I tensorflow/stream_executor/platform/default/dso_loader.cc:44] Successfully opened dynamic library libcufft.so.10\n",
            "2020-08-14 15:11:19.112162: I tensorflow/stream_executor/platform/default/dso_loader.cc:44] Successfully opened dynamic library libcurand.so.10\n",
            "2020-08-14 15:11:19.112182: I tensorflow/stream_executor/platform/default/dso_loader.cc:44] Successfully opened dynamic library libcusolver.so.10\n",
            "2020-08-14 15:11:19.112202: I tensorflow/stream_executor/platform/default/dso_loader.cc:44] Successfully opened dynamic library libcusparse.so.10\n",
            "2020-08-14 15:11:19.112223: I tensorflow/stream_executor/platform/default/dso_loader.cc:44] Successfully opened dynamic library libcudnn.so.7\n",
            "2020-08-14 15:11:19.112343: I tensorflow/stream_executor/cuda/cuda_gpu_executor.cc:983] successful NUMA node read from SysFS had negative value (-1), but there must be at least one NUMA node, so returning NUMA node zero\n",
            "2020-08-14 15:11:19.113248: I tensorflow/stream_executor/cuda/cuda_gpu_executor.cc:983] successful NUMA node read from SysFS had negative value (-1), but there must be at least one NUMA node, so returning NUMA node zero\n",
            "2020-08-14 15:11:19.114119: I tensorflow/core/common_runtime/gpu/gpu_device.cc:1767] Adding visible gpu devices: 0\n",
            "2020-08-14 15:11:19.114229: I tensorflow/stream_executor/platform/default/dso_loader.cc:44] Successfully opened dynamic library libcudart.so.10.1\n",
            "2020-08-14 15:11:19.115701: I tensorflow/core/common_runtime/gpu/gpu_device.cc:1180] Device interconnect StreamExecutor with strength 1 edge matrix:\n",
            "2020-08-14 15:11:19.115732: I tensorflow/core/common_runtime/gpu/gpu_device.cc:1186]      0 \n",
            "2020-08-14 15:11:19.115751: I tensorflow/core/common_runtime/gpu/gpu_device.cc:1199] 0:   N \n",
            "2020-08-14 15:11:19.115894: I tensorflow/stream_executor/cuda/cuda_gpu_executor.cc:983] successful NUMA node read from SysFS had negative value (-1), but there must be at least one NUMA node, so returning NUMA node zero\n",
            "2020-08-14 15:11:19.116881: I tensorflow/stream_executor/cuda/cuda_gpu_executor.cc:983] successful NUMA node read from SysFS had negative value (-1), but there must be at least one NUMA node, so returning NUMA node zero\n",
            "2020-08-14 15:11:19.117814: W tensorflow/core/common_runtime/gpu/gpu_bfc_allocator.cc:39] Overriding allow_growth setting because the TF_FORCE_GPU_ALLOW_GROWTH environment variable is set. Original config value was 0.\n",
            "2020-08-14 15:11:19.117868: I tensorflow/core/common_runtime/gpu/gpu_device.cc:1325] Created TensorFlow device (/job:localhost/replica:0/task:0/device:GPU:0 with 15216 MB memory) -> physical GPU (device: 0, name: Tesla P100-PCIE-16GB, pci bus id: 0000:00:04.0, compute capability: 6.0)\n",
            "2020-08-14 15:11:19.868400: I tensorflow/stream_executor/platform/default/dso_loader.cc:44] Successfully opened dynamic library libcublas.so.10\n",
            "2020-08-14 15:11:20.138989: I tensorflow/stream_executor/platform/default/dso_loader.cc:44] Successfully opened dynamic library libcudnn.so.7\n",
            "60000/60000 [==============================] - 99s 2ms/sample - loss: 1.9525 - acc: 0.5872\n",
            "DP-SGD with sampling rate = 0.417% and noise_multiplier = 1.3 iterated over 240 steps satisfies differential privacy with eps = 0.685 and delta = 1.6666666666666667e-05.\n",
            "The optimal RDP order is 18.0.\n",
            "Computed privacy budget Epsilon: 0.6848896840269731\n",
            "substratools.algo - saving output model to 'assets/model/model'\n"
          ],
          "name": "stdout"
        }
      ]
    },
    {
      "cell_type": "code",
      "metadata": {
        "id": "5Pp7yN4YRYTy",
        "colab_type": "code",
        "colab": {
          "base_uri": "https://localhost:8080/",
          "height": 938
        },
        "outputId": "dc1e0d1f-27f2-4e13-e7c9-9167802da87a"
      },
      "source": [
        "#predict the labels of train_data with your previously trained model\n",
        "! python assets/algo_cnn_dp/algo.py predict \\\n",
        "  --debug \\\n",
        "  --opener-path assets/dataset/opener.py \\\n",
        "  --data-samples-path assets/train_data \\\n",
        "  --output-predictions-path assets/pred-train.npy \\\n",
        "  --models-path assets/model/ \\\n",
        "  --log-path assets/logs/train_predict.log \\\n",
        "  model"
      ],
      "execution_count": 12,
      "outputs": [
        {
          "output_type": "stream",
          "text": [
            "substratools.utils - Module 'opener' loaded from path 'assets/dataset/opener.py'\n",
            "substratools.opener - loading X from '['assets/train_data/labels', 'assets/train_data/features']'\n",
            "Finding features file...\n",
            "Loading features...\n",
            "substratools.algo - loading model from 'assets/model/model'\n",
            "2020-08-14 14:14:43.570141: I tensorflow/stream_executor/platform/default/dso_loader.cc:44] Successfully opened dynamic library libcuda.so.1\n",
            "2020-08-14 14:14:43.583001: I tensorflow/stream_executor/cuda/cuda_gpu_executor.cc:983] successful NUMA node read from SysFS had negative value (-1), but there must be at least one NUMA node, so returning NUMA node zero\n",
            "2020-08-14 14:14:43.583540: I tensorflow/core/common_runtime/gpu/gpu_device.cc:1639] Found device 0 with properties: \n",
            "name: Tesla P100-PCIE-16GB major: 6 minor: 0 memoryClockRate(GHz): 1.3285\n",
            "pciBusID: 0000:00:04.0\n",
            "2020-08-14 14:14:43.583799: I tensorflow/stream_executor/platform/default/dso_loader.cc:44] Successfully opened dynamic library libcudart.so.10.1\n",
            "2020-08-14 14:14:43.585113: I tensorflow/stream_executor/platform/default/dso_loader.cc:44] Successfully opened dynamic library libcublas.so.10\n",
            "2020-08-14 14:14:43.586522: I tensorflow/stream_executor/platform/default/dso_loader.cc:44] Successfully opened dynamic library libcufft.so.10\n",
            "2020-08-14 14:14:43.586883: I tensorflow/stream_executor/platform/default/dso_loader.cc:44] Successfully opened dynamic library libcurand.so.10\n",
            "2020-08-14 14:14:43.588217: I tensorflow/stream_executor/platform/default/dso_loader.cc:44] Successfully opened dynamic library libcusolver.so.10\n",
            "2020-08-14 14:14:43.588989: I tensorflow/stream_executor/platform/default/dso_loader.cc:44] Successfully opened dynamic library libcusparse.so.10\n",
            "2020-08-14 14:14:43.591898: I tensorflow/stream_executor/platform/default/dso_loader.cc:44] Successfully opened dynamic library libcudnn.so.7\n",
            "2020-08-14 14:14:43.591991: I tensorflow/stream_executor/cuda/cuda_gpu_executor.cc:983] successful NUMA node read from SysFS had negative value (-1), but there must be at least one NUMA node, so returning NUMA node zero\n",
            "2020-08-14 14:14:43.592520: I tensorflow/stream_executor/cuda/cuda_gpu_executor.cc:983] successful NUMA node read from SysFS had negative value (-1), but there must be at least one NUMA node, so returning NUMA node zero\n",
            "2020-08-14 14:14:43.593038: I tensorflow/core/common_runtime/gpu/gpu_device.cc:1767] Adding visible gpu devices: 0\n",
            "2020-08-14 14:14:43.597165: I tensorflow/core/platform/profile_utils/cpu_utils.cc:94] CPU Frequency: 2200000000 Hz\n",
            "2020-08-14 14:14:43.597550: I tensorflow/compiler/xla/service/service.cc:168] XLA service 0x50f8fc0 initialized for platform Host (this does not guarantee that XLA will be used). Devices:\n",
            "2020-08-14 14:14:43.597587: I tensorflow/compiler/xla/service/service.cc:176]   StreamExecutor device (0): Host, Default Version\n",
            "2020-08-14 14:14:43.684358: I tensorflow/stream_executor/cuda/cuda_gpu_executor.cc:983] successful NUMA node read from SysFS had negative value (-1), but there must be at least one NUMA node, so returning NUMA node zero\n",
            "2020-08-14 14:14:43.685045: I tensorflow/compiler/xla/service/service.cc:168] XLA service 0x50f9180 initialized for platform CUDA (this does not guarantee that XLA will be used). Devices:\n",
            "2020-08-14 14:14:43.685079: I tensorflow/compiler/xla/service/service.cc:176]   StreamExecutor device (0): Tesla P100-PCIE-16GB, Compute Capability 6.0\n",
            "2020-08-14 14:14:43.685235: I tensorflow/stream_executor/cuda/cuda_gpu_executor.cc:983] successful NUMA node read from SysFS had negative value (-1), but there must be at least one NUMA node, so returning NUMA node zero\n",
            "2020-08-14 14:14:43.685738: I tensorflow/core/common_runtime/gpu/gpu_device.cc:1639] Found device 0 with properties: \n",
            "name: Tesla P100-PCIE-16GB major: 6 minor: 0 memoryClockRate(GHz): 1.3285\n",
            "pciBusID: 0000:00:04.0\n",
            "2020-08-14 14:14:43.685817: I tensorflow/stream_executor/platform/default/dso_loader.cc:44] Successfully opened dynamic library libcudart.so.10.1\n",
            "2020-08-14 14:14:43.685835: I tensorflow/stream_executor/platform/default/dso_loader.cc:44] Successfully opened dynamic library libcublas.so.10\n",
            "2020-08-14 14:14:43.685845: I tensorflow/stream_executor/platform/default/dso_loader.cc:44] Successfully opened dynamic library libcufft.so.10\n",
            "2020-08-14 14:14:43.685858: I tensorflow/stream_executor/platform/default/dso_loader.cc:44] Successfully opened dynamic library libcurand.so.10\n",
            "2020-08-14 14:14:43.685869: I tensorflow/stream_executor/platform/default/dso_loader.cc:44] Successfully opened dynamic library libcusolver.so.10\n",
            "2020-08-14 14:14:43.685882: I tensorflow/stream_executor/platform/default/dso_loader.cc:44] Successfully opened dynamic library libcusparse.so.10\n",
            "2020-08-14 14:14:43.685894: I tensorflow/stream_executor/platform/default/dso_loader.cc:44] Successfully opened dynamic library libcudnn.so.7\n",
            "2020-08-14 14:14:43.685946: I tensorflow/stream_executor/cuda/cuda_gpu_executor.cc:983] successful NUMA node read from SysFS had negative value (-1), but there must be at least one NUMA node, so returning NUMA node zero\n",
            "2020-08-14 14:14:43.686536: I tensorflow/stream_executor/cuda/cuda_gpu_executor.cc:983] successful NUMA node read from SysFS had negative value (-1), but there must be at least one NUMA node, so returning NUMA node zero\n",
            "2020-08-14 14:14:43.687075: I tensorflow/core/common_runtime/gpu/gpu_device.cc:1767] Adding visible gpu devices: 0\n",
            "2020-08-14 14:14:43.687136: I tensorflow/stream_executor/platform/default/dso_loader.cc:44] Successfully opened dynamic library libcudart.so.10.1\n",
            "2020-08-14 14:14:43.688145: I tensorflow/core/common_runtime/gpu/gpu_device.cc:1180] Device interconnect StreamExecutor with strength 1 edge matrix:\n",
            "2020-08-14 14:14:43.688171: I tensorflow/core/common_runtime/gpu/gpu_device.cc:1186]      0 \n",
            "2020-08-14 14:14:43.688178: I tensorflow/core/common_runtime/gpu/gpu_device.cc:1199] 0:   N \n",
            "2020-08-14 14:14:43.688278: I tensorflow/stream_executor/cuda/cuda_gpu_executor.cc:983] successful NUMA node read from SysFS had negative value (-1), but there must be at least one NUMA node, so returning NUMA node zero\n",
            "2020-08-14 14:14:43.688940: I tensorflow/stream_executor/cuda/cuda_gpu_executor.cc:983] successful NUMA node read from SysFS had negative value (-1), but there must be at least one NUMA node, so returning NUMA node zero\n",
            "2020-08-14 14:14:43.689523: W tensorflow/core/common_runtime/gpu/gpu_bfc_allocator.cc:39] Overriding allow_growth setting because the TF_FORCE_GPU_ALLOW_GROWTH environment variable is set. Original config value was 0.\n",
            "2020-08-14 14:14:43.689576: I tensorflow/core/common_runtime/gpu/gpu_device.cc:1325] Created TensorFlow device (/job:localhost/replica:0/task:0/device:GPU:0 with 15216 MB memory) -> physical GPU (device: 0, name: Tesla P100-PCIE-16GB, pci bus id: 0000:00:04.0, compute capability: 6.0)\n",
            "substratools.algo - launching predict task\n",
            "X shape: (60000, 28, 28, 1)\n",
            "2020-08-14 14:14:44.317276: I tensorflow/stream_executor/platform/default/dso_loader.cc:44] Successfully opened dynamic library libcublas.so.10\n",
            "2020-08-14 14:14:44.559382: I tensorflow/stream_executor/platform/default/dso_loader.cc:44] Successfully opened dynamic library libcudnn.so.7\n",
            "substratools.opener - saving predictions to 'assets/pred-train.npy'\n"
          ],
          "name": "stdout"
        }
      ]
    },
    {
      "cell_type": "code",
      "metadata": {
        "id": "Nm6SnGQJRboG",
        "colab_type": "code",
        "colab": {
          "base_uri": "https://localhost:8080/",
          "height": 136
        },
        "outputId": "357993af-b10e-419b-ef38-d58d0cc708fb"
      },
      "source": [
        "#calculate the score of your model on train_data predictions\n",
        "! python assets/objective/metrics.py \\\n",
        "  --debug \\\n",
        "  --opener-path assets/dataset/opener.py \\\n",
        "  --data-samples-path assets/train_data \\\n",
        "  --input-predictions-path assets/pred-train.npy \\\n",
        "  --output-perf-path assets/perf-train.json \\\n",
        "  --log-path assets/logs/train_metrics.log"
      ],
      "execution_count": 13,
      "outputs": [
        {
          "output_type": "stream",
          "text": [
            "substratools.opener - loading y from '['assets/train_data/labels', 'assets/train_data/features']'\n",
            "Finding label file...\n",
            "Loading labels...\n",
            "substratools.opener - loading predictions from 'assets/pred-train.npy'\n",
            "substratools.metrics - launching scoring task\n",
            "substratools.metrics - score: 0.84665\n",
            "substratools.metrics - saving score to 'assets/perf-train.json'\n"
          ],
          "name": "stdout"
        }
      ]
    },
    {
      "cell_type": "markdown",
      "metadata": {
        "id": "711Mg8smVlEf",
        "colab_type": "text"
      },
      "source": [
        "#### Testing task"
      ]
    },
    {
      "cell_type": "code",
      "metadata": {
        "id": "vhoL2XIkVpjW",
        "colab_type": "code",
        "colab": {
          "base_uri": "https://localhost:8080/",
          "height": 938
        },
        "outputId": "40a29a34-276b-4238-8350-4f868d4eb39e"
      },
      "source": [
        "#predict the labels of test_data with your previously trained model\n",
        "! python assets/algo_cnn_dp/algo.py predict \\\n",
        "  --debug \\\n",
        "  --opener-path assets/dataset/opener.py \\\n",
        "  --data-samples-path assets/test_data \\\n",
        "  --output-predictions-path assets/pred-test.npy \\\n",
        "  --models-path assets/model/ \\\n",
        "  --log-path assets/logs/test_predict.log \\\n",
        "  model"
      ],
      "execution_count": 14,
      "outputs": [
        {
          "output_type": "stream",
          "text": [
            "substratools.utils - Module 'opener' loaded from path 'assets/dataset/opener.py'\n",
            "substratools.opener - loading X from '['assets/test_data/labels', 'assets/test_data/features']'\n",
            "Finding features file...\n",
            "Loading features...\n",
            "substratools.algo - loading model from 'assets/model/model'\n",
            "2020-08-14 14:14:55.584641: I tensorflow/stream_executor/platform/default/dso_loader.cc:44] Successfully opened dynamic library libcuda.so.1\n",
            "2020-08-14 14:14:55.597122: I tensorflow/stream_executor/cuda/cuda_gpu_executor.cc:983] successful NUMA node read from SysFS had negative value (-1), but there must be at least one NUMA node, so returning NUMA node zero\n",
            "2020-08-14 14:14:55.597900: I tensorflow/core/common_runtime/gpu/gpu_device.cc:1639] Found device 0 with properties: \n",
            "name: Tesla P100-PCIE-16GB major: 6 minor: 0 memoryClockRate(GHz): 1.3285\n",
            "pciBusID: 0000:00:04.0\n",
            "2020-08-14 14:14:55.598144: I tensorflow/stream_executor/platform/default/dso_loader.cc:44] Successfully opened dynamic library libcudart.so.10.1\n",
            "2020-08-14 14:14:55.599466: I tensorflow/stream_executor/platform/default/dso_loader.cc:44] Successfully opened dynamic library libcublas.so.10\n",
            "2020-08-14 14:14:55.600908: I tensorflow/stream_executor/platform/default/dso_loader.cc:44] Successfully opened dynamic library libcufft.so.10\n",
            "2020-08-14 14:14:55.601219: I tensorflow/stream_executor/platform/default/dso_loader.cc:44] Successfully opened dynamic library libcurand.so.10\n",
            "2020-08-14 14:14:55.602540: I tensorflow/stream_executor/platform/default/dso_loader.cc:44] Successfully opened dynamic library libcusolver.so.10\n",
            "2020-08-14 14:14:55.603259: I tensorflow/stream_executor/platform/default/dso_loader.cc:44] Successfully opened dynamic library libcusparse.so.10\n",
            "2020-08-14 14:14:55.605923: I tensorflow/stream_executor/platform/default/dso_loader.cc:44] Successfully opened dynamic library libcudnn.so.7\n",
            "2020-08-14 14:14:55.606025: I tensorflow/stream_executor/cuda/cuda_gpu_executor.cc:983] successful NUMA node read from SysFS had negative value (-1), but there must be at least one NUMA node, so returning NUMA node zero\n",
            "2020-08-14 14:14:55.606556: I tensorflow/stream_executor/cuda/cuda_gpu_executor.cc:983] successful NUMA node read from SysFS had negative value (-1), but there must be at least one NUMA node, so returning NUMA node zero\n",
            "2020-08-14 14:14:55.607060: I tensorflow/core/common_runtime/gpu/gpu_device.cc:1767] Adding visible gpu devices: 0\n",
            "2020-08-14 14:14:55.611810: I tensorflow/core/platform/profile_utils/cpu_utils.cc:94] CPU Frequency: 2200000000 Hz\n",
            "2020-08-14 14:14:55.612076: I tensorflow/compiler/xla/service/service.cc:168] XLA service 0x624afc0 initialized for platform Host (this does not guarantee that XLA will be used). Devices:\n",
            "2020-08-14 14:14:55.612104: I tensorflow/compiler/xla/service/service.cc:176]   StreamExecutor device (0): Host, Default Version\n",
            "2020-08-14 14:14:55.701182: I tensorflow/stream_executor/cuda/cuda_gpu_executor.cc:983] successful NUMA node read from SysFS had negative value (-1), but there must be at least one NUMA node, so returning NUMA node zero\n",
            "2020-08-14 14:14:55.701922: I tensorflow/compiler/xla/service/service.cc:168] XLA service 0x624b180 initialized for platform CUDA (this does not guarantee that XLA will be used). Devices:\n",
            "2020-08-14 14:14:55.701955: I tensorflow/compiler/xla/service/service.cc:176]   StreamExecutor device (0): Tesla P100-PCIE-16GB, Compute Capability 6.0\n",
            "2020-08-14 14:14:55.702103: I tensorflow/stream_executor/cuda/cuda_gpu_executor.cc:983] successful NUMA node read from SysFS had negative value (-1), but there must be at least one NUMA node, so returning NUMA node zero\n",
            "2020-08-14 14:14:55.702672: I tensorflow/core/common_runtime/gpu/gpu_device.cc:1639] Found device 0 with properties: \n",
            "name: Tesla P100-PCIE-16GB major: 6 minor: 0 memoryClockRate(GHz): 1.3285\n",
            "pciBusID: 0000:00:04.0\n",
            "2020-08-14 14:14:55.702733: I tensorflow/stream_executor/platform/default/dso_loader.cc:44] Successfully opened dynamic library libcudart.so.10.1\n",
            "2020-08-14 14:14:55.702801: I tensorflow/stream_executor/platform/default/dso_loader.cc:44] Successfully opened dynamic library libcublas.so.10\n",
            "2020-08-14 14:14:55.702819: I tensorflow/stream_executor/platform/default/dso_loader.cc:44] Successfully opened dynamic library libcufft.so.10\n",
            "2020-08-14 14:14:55.702832: I tensorflow/stream_executor/platform/default/dso_loader.cc:44] Successfully opened dynamic library libcurand.so.10\n",
            "2020-08-14 14:14:55.702846: I tensorflow/stream_executor/platform/default/dso_loader.cc:44] Successfully opened dynamic library libcusolver.so.10\n",
            "2020-08-14 14:14:55.702863: I tensorflow/stream_executor/platform/default/dso_loader.cc:44] Successfully opened dynamic library libcusparse.so.10\n",
            "2020-08-14 14:14:55.702883: I tensorflow/stream_executor/platform/default/dso_loader.cc:44] Successfully opened dynamic library libcudnn.so.7\n",
            "2020-08-14 14:14:55.702945: I tensorflow/stream_executor/cuda/cuda_gpu_executor.cc:983] successful NUMA node read from SysFS had negative value (-1), but there must be at least one NUMA node, so returning NUMA node zero\n",
            "2020-08-14 14:14:55.703505: I tensorflow/stream_executor/cuda/cuda_gpu_executor.cc:983] successful NUMA node read from SysFS had negative value (-1), but there must be at least one NUMA node, so returning NUMA node zero\n",
            "2020-08-14 14:14:55.704064: I tensorflow/core/common_runtime/gpu/gpu_device.cc:1767] Adding visible gpu devices: 0\n",
            "2020-08-14 14:14:55.704126: I tensorflow/stream_executor/platform/default/dso_loader.cc:44] Successfully opened dynamic library libcudart.so.10.1\n",
            "2020-08-14 14:14:55.705176: I tensorflow/core/common_runtime/gpu/gpu_device.cc:1180] Device interconnect StreamExecutor with strength 1 edge matrix:\n",
            "2020-08-14 14:14:55.705202: I tensorflow/core/common_runtime/gpu/gpu_device.cc:1186]      0 \n",
            "2020-08-14 14:14:55.705210: I tensorflow/core/common_runtime/gpu/gpu_device.cc:1199] 0:   N \n",
            "2020-08-14 14:14:55.705311: I tensorflow/stream_executor/cuda/cuda_gpu_executor.cc:983] successful NUMA node read from SysFS had negative value (-1), but there must be at least one NUMA node, so returning NUMA node zero\n",
            "2020-08-14 14:14:55.705934: I tensorflow/stream_executor/cuda/cuda_gpu_executor.cc:983] successful NUMA node read from SysFS had negative value (-1), but there must be at least one NUMA node, so returning NUMA node zero\n",
            "2020-08-14 14:14:55.706416: W tensorflow/core/common_runtime/gpu/gpu_bfc_allocator.cc:39] Overriding allow_growth setting because the TF_FORCE_GPU_ALLOW_GROWTH environment variable is set. Original config value was 0.\n",
            "2020-08-14 14:14:55.706448: I tensorflow/core/common_runtime/gpu/gpu_device.cc:1325] Created TensorFlow device (/job:localhost/replica:0/task:0/device:GPU:0 with 15216 MB memory) -> physical GPU (device: 0, name: Tesla P100-PCIE-16GB, pci bus id: 0000:00:04.0, compute capability: 6.0)\n",
            "substratools.algo - launching predict task\n",
            "X shape: (10000, 28, 28, 1)\n",
            "2020-08-14 14:14:56.299158: I tensorflow/stream_executor/platform/default/dso_loader.cc:44] Successfully opened dynamic library libcublas.so.10\n",
            "2020-08-14 14:14:56.539343: I tensorflow/stream_executor/platform/default/dso_loader.cc:44] Successfully opened dynamic library libcudnn.so.7\n",
            "substratools.opener - saving predictions to 'assets/pred-test.npy'\n"
          ],
          "name": "stdout"
        }
      ]
    },
    {
      "cell_type": "code",
      "metadata": {
        "id": "pFXL-iIFVrkR",
        "colab_type": "code",
        "colab": {
          "base_uri": "https://localhost:8080/",
          "height": 136
        },
        "outputId": "676009ba-9e10-49f3-e003-86b2364cc0a5"
      },
      "source": [
        "#calculate the score of your model on test_data predictions\n",
        "! python assets/objective/metrics.py \\\n",
        "  --debug \\\n",
        "  --opener-path assets/dataset/opener.py \\\n",
        "  --data-samples-path assets/test_data \\\n",
        "  --input-predictions-path assets/pred-test.npy \\\n",
        "  --output-perf-path assets/perf-test.json \\\n",
        "  --log-path assets/logs/test_metrics.log"
      ],
      "execution_count": 15,
      "outputs": [
        {
          "output_type": "stream",
          "text": [
            "substratools.opener - loading y from '['assets/test_data/labels', 'assets/test_data/features']'\n",
            "Finding label file...\n",
            "Loading labels...\n",
            "substratools.opener - loading predictions from 'assets/pred-test.npy'\n",
            "substratools.metrics - launching scoring task\n",
            "substratools.metrics - score: 0.8553\n",
            "substratools.metrics - saving score to 'assets/perf-test.json'\n"
          ],
          "name": "stdout"
        }
      ]
    },
    {
      "cell_type": "markdown",
      "metadata": {
        "id": "e56pBMUsRfHw",
        "colab_type": "text"
      },
      "source": [
        "### Using substra cli\n",
        "\n",
        "Before pushing our assets to the platform, we need to make sure they work well. To do so, we can run them locally in a\n",
        "Docker container. This way, if the training fails, we can access the logs and debug our code.\n",
        "\n",
        "To test the assets, we'll use `substra run-local`, passing it paths to our algorithm of course, but also the opener,\n",
        "the metrics and to the data samples we want to use. It will launch a training task on the train data, a prediction task on the test data and return the accuracy score.\n"
      ]
    },
    {
      "cell_type": "code",
      "metadata": {
        "id": "ZsVjUgrvYziC",
        "colab_type": "code",
        "colab": {}
      },
      "source": [
        "#you will need Docker to run this (not available in Colab)\n",
        "! substra run-local assets/algo_cnn_dp \\\n",
        "  --train-opener=assets/dataset/opener.py \\\n",
        "  --test-opener=assets/dataset/opener.py \\\n",
        "  --metrics=assets/objective/ \\\n",
        "  --train-data-samples=assets/train_data \\\n",
        "  --test-data-samples=assets/test_data"
      ],
      "execution_count": null,
      "outputs": []
    },
    {
      "cell_type": "markdown",
      "metadata": {
        "id": "1nYflmdBWB_y",
        "colab_type": "text"
      },
      "source": [
        "At the end of this step, you'll find in the newly created `sandbox/model` folder a `model` file that contains your\n",
        "trained model. There is also a `sandbox/pred_train` folder that contains both the predictions made by the model on\n",
        "train data and the associated performance.\n"
      ]
    },
    {
      "cell_type": "markdown",
      "metadata": {
        "id": "Hljsxt1PWEAr",
        "colab_type": "text"
      },
      "source": [
        "#### Debugging\n",
        "\n",
        "It's more than probable that your code won't run perfectly the first time. Since runs happen in dockers, you can't\n",
        "debug using prints. Instead, you should use the `logging` module from python. All logs can then be consulted at the end\n",
        "of the run in  `sandbox/model/log_model.log`.\n",
        "\n",
        "## Adding the assets to substra\n",
        "\n",
        "### Adding the objective, dataset and data samples to substra\n",
        "\n",
        "A script has been written that adds objective, data manager and data samples to substra. It uses the `substra` python\n",
        "sdk to perform actions. It's main goal is to create assets, get their keys and use these keys in the creation of other\n",
        "assets.\n",
        "\n",
        "To run it:\n"
      ]
    },
    {
      "cell_type": "code",
      "metadata": {
        "id": "jNSaDP9iWLyy",
        "colab_type": "code",
        "colab": {
          "base_uri": "https://localhost:8080/",
          "height": 153
        },
        "outputId": "0a81aea5-cdb2-4293-8672-ecc445d1ea64"
      },
      "source": [
        "! python scripts/add_dataset_objective.py"
      ],
      "execution_count": 15,
      "outputs": [
        {
          "output_type": "stream",
          "text": [
            "Adding dataset...\n",
            "Adding train data samples...\n",
            "100% 2/2 [00:03<00:00,  1.87s/it]\n",
            "Adding test data samples...\n",
            "100% 2/2 [00:01<00:00,  1.26it/s]\n",
            "Associating data samples with dataset...\n",
            "Adding objective...\n",
            "Assets keys have been saved to /content/substra-examples/mnist-dp/assets_keys.json\n"
          ],
          "name": "stdout"
        }
      ]
    },
    {
      "cell_type": "markdown",
      "metadata": {
        "id": "BP7PUXTyWVt0",
        "colab_type": "text"
      },
      "source": [
        "This script just generated an `assets_keys.json` file in the `mnist` folder. This file contains the keys of all assets\n",
        "we've just created and organizes the keys of the train data samples in folds. This file will be used as input when\n",
        "adding an algorithm so that we can automatically launch all training and testing tasks.\n"
      ]
    },
    {
      "cell_type": "markdown",
      "metadata": {
        "id": "iF3ykfHVWYum",
        "colab_type": "text"
      },
      "source": [
        "### Adding the algorithm and training it\n",
        "\n",
        "The script `add_train_algo_cnn.py` pushes our simple algo to substra and then uses the `assets_keys.json` file\n",
        "we just generated to train it against the dataset and objective we previously set up. It will then update the\n",
        "`assets_keys.json` file with the newly created assets keys (algo, traintuple and testtuple)\n",
        "\n",
        "To run it:"
      ]
    },
    {
      "cell_type": "code",
      "metadata": {
        "id": "cpnh9e_yWVC_",
        "colab_type": "code",
        "colab": {}
      },
      "source": [
        "! python scripts/add_train_algo_cnn_dp.py"
      ],
      "execution_count": null,
      "outputs": []
    },
    {
      "cell_type": "markdown",
      "metadata": {
        "id": "v9kc1CyBWaxJ",
        "colab_type": "text"
      },
      "source": [
        "It will end by providing a couple of commands you can use to track the progress of the train and test tuples as well\n",
        "as the associated scores. Alternatively, you can browse the frontend to look up progress and scores."
      ]
    }
  ]
}