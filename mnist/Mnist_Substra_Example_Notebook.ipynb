{
  "nbformat": 4,
  "nbformat_minor": 0,
  "metadata": {
    "colab": {
      "name": "Mnist_Substra_Example_Notebook",
      "provenance": [],
      "collapsed_sections": [],
      "toc_visible": true,
      "machine_shape": "hm",
      "mount_file_id": "1oYslMB-H1YEfQoZE1S3LihkmVCFXmKOX",
      "authorship_tag": "ABX9TyMyVbh+dsWA16vQlkWCfFgH",
      "include_colab_link": true
    },
    "kernelspec": {
      "name": "python3",
      "display_name": "Python 3"
    },
    "accelerator": "GPU"
  },
  "cells": [
    {
      "cell_type": "markdown",
      "metadata": {
        "id": "view-in-github",
        "colab_type": "text"
      },
      "source": [
        "<a href=\"https://colab.research.google.com/github/SubstraFoundation/substra-examples/blob/master/mnist/Mnist_Substra_Example_Notebook.ipynb\" target=\"_parent\"><img src=\"https://colab.research.google.com/assets/colab-badge.svg\" alt=\"Open In Colab\"/></a>"
      ]
    },
    {
      "cell_type": "markdown",
      "metadata": {
        "id": "-4DF18EyM3rb",
        "colab_type": "text"
      },
      "source": [
        "In this Notebook, you can test the example's assets and potentially run ML tasks on a public distant VM.\n",
        "On Google Colab, you can see and modify the assets with the \"Files\" button on the left."
      ]
    },
    {
      "cell_type": "markdown",
      "metadata": {
        "id": "1SJi6ACtKP0B",
        "colab_type": "text"
      },
      "source": [
        "# Mnist\n",
        "\n",
        "*This example is a Substra implementation of on [the MNIST example from Keras](https://keras.io/examples/vision/mnist_convnet/), inspired from [Substra's Titanic Example](https://github.com/SubstraFoundation/substra/blob/master/examples/titanic/)*\n",
        "\n",
        "In this example, we'll see how to setup an objective and how to train algorithms on the MNIST dataset.\n"
      ]
    },
    {
      "cell_type": "markdown",
      "metadata": {
        "id": "jFjGg7WgOb1q",
        "colab_type": "text"
      },
      "source": [
        "\n",
        "## Prerequisites\n",
        "\n",
        "In order to run this example, you'll need to:\n",
        "\n",
        "* use Python 3\n",
        "* have [Docker](https://www.docker.com/) installed\n",
        "* [install the `substra` cli](https://github.com/SubstraFoundation/substra#install) (supported version: 0.6.0)"
      ]
    },
    {
      "cell_type": "code",
      "metadata": {
        "id": "0pnSX37XNth3",
        "colab_type": "code",
        "colab": {}
      },
      "source": [
        "! pip3 install substra==0.6.0"
      ],
      "execution_count": null,
      "outputs": []
    },
    {
      "cell_type": "markdown",
      "metadata": {
        "id": "78Dg-ioqNqie",
        "colab_type": "text"
      },
      "source": [
        "\n",
        "* [install the `substratools` library](https://github.com/substrafoundation/substra-tools) (supported version: 0.6.0)\n",
        "* [pull the `substra-tools` docker images](https://github.com/substrafoundation/substra-tools#pull-from-private-docker-registry)\n",
        "* have access to a Substra installation ([configure your host to a public node ip](https://doc.substra.ai/getting_started/installation/local_install_skaffold.html#network) or [install Substra on your machine](https://doc.substra.ai/getting_started/installation/local_install_skaffold.html))"
      ]
    },
    {
      "cell_type": "code",
      "metadata": {
        "id": "OXNWTXfLdNEr",
        "colab_type": "code",
        "colab": {}
      },
      "source": [
        "#replace this ip by the ip of a distant VM running a substra node\n",
        "public_node_ip = \"127.0.0.1\""
      ],
      "execution_count": null,
      "outputs": []
    },
    {
      "cell_type": "code",
      "metadata": {
        "id": "3Sj64EGcd2bG",
        "colab_type": "code",
        "colab": {}
      },
      "source": [
        "! echo \"{public_node_ip} substra-backend.node-1.com substra-frontend.node-1.com substra-backend.node-2.com substra-frontend.node-2.com\" | sudo tee -a /etc/hosts\n",
        "# Check if it's ok\n",
        "! curl substra-backend.node-1.com/readiness"
      ],
      "execution_count": null,
      "outputs": []
    },
    {
      "cell_type": "markdown",
      "metadata": {
        "id": "WiNgyy4odKzR",
        "colab_type": "text"
      },
      "source": [
        "\n",
        "* create a substra profile to define the substra network to target, for instance:\n"
      ]
    },
    {
      "cell_type": "code",
      "metadata": {
        "id": "njy5vYAvWoEE",
        "colab_type": "code",
        "colab": {}
      },
      "source": [
        "! substra config --profile node-1 http://substra-backend.node-1.com\n",
        "! substra login --profile node-1 --username node-1 --password 'p@$swr0d44'"
      ],
      "execution_count": null,
      "outputs": []
    },
    {
      "cell_type": "markdown",
      "metadata": {
        "id": "laY7B4rs6Ik-",
        "colab_type": "text"
      },
      "source": [
        "* checkout this repository"
      ]
    },
    {
      "cell_type": "code",
      "metadata": {
        "id": "NCaLsa5LOLTu",
        "colab_type": "code",
        "colab": {
          "base_uri": "https://localhost:8080/",
          "height": 218
        },
        "outputId": "51ba5d50-fd80-47a3-a71a-038cf20c0902"
      },
      "source": [
        "%cd /content\n",
        "! git clone https://github.com/SubstraFoundation/substra-examples/\n",
        "%cd substra-examples/content/substra-examples/mnist"
      ],
      "execution_count": null,
      "outputs": [
        {
          "output_type": "stream",
          "text": [
            "/content\n",
            "Cloning into 'substra-examples'...\n",
            "remote: Enumerating objects: 22, done.\u001b[K\n",
            "remote: Counting objects: 100% (22/22), done.\u001b[K\n",
            "remote: Compressing objects: 100% (21/21), done.\u001b[K\n",
            "remote: Total 281 (delta 4), reused 15 (delta 1), pack-reused 259\u001b[K\n",
            "Receiving objects: 100% (281/281), 170.32 MiB | 39.34 MiB/s, done.\n",
            "Resolving deltas: 100% (134/134), done.\n",
            "/content/substra-examples\n",
            "Branch 'mnist' set up to track remote branch 'mnist' from 'origin'.\n",
            "Switched to a new branch 'mnist'\n",
            "/content/substra-examples/mnist\n"
          ],
          "name": "stdout"
        }
      ]
    },
    {
      "cell_type": "markdown",
      "metadata": {
        "id": "KUMkvMmyOHe5",
        "colab_type": "text"
      },
      "source": [
        "\n",
        "All commands in this example are run from the `mnist` folder.\n"
      ]
    },
    {
      "cell_type": "markdown",
      "metadata": {
        "id": "bibVWArLPIoM",
        "colab_type": "text"
      },
      "source": [
        "## Data preparation\n",
        "\n",
        "The first step will be to generate train and test data from keras.datasets.mnist\n",
        "\n",
        "To generate the data, run:\n",
        "\n"
      ]
    },
    {
      "cell_type": "code",
      "metadata": {
        "id": "UBprYg-5PUvx",
        "colab_type": "code",
        "colab": {}
      },
      "source": [
        "%cd /content/substra-examples/mnist\n",
        "! pip install --upgrade pip\n",
        "! pip install -r scripts/requirements.txt"
      ],
      "execution_count": null,
      "outputs": []
    },
    {
      "cell_type": "code",
      "metadata": {
        "id": "3M648e_-QH4N",
        "colab_type": "code",
        "colab": {
          "base_uri": "https://localhost:8080/",
          "height": 205
        },
        "outputId": "9a010d4b-1c5e-4640-d720-ae2be990ae40"
      },
      "source": [
        "%cd /content/substra-examples/mnist\n",
        "! python scripts/generate_data.py"
      ],
      "execution_count": null,
      "outputs": [
        {
          "output_type": "stream",
          "text": [
            "/content/substra-examples/mnist\n",
            "2020-08-06 15:25:09.747247: I tensorflow/stream_executor/platform/default/dso_loader.cc:48] Successfully opened dynamic library libcudart.so.10.1\n",
            "Loading data from keras.datasets.mnist ...\n",
            "Downloading data from https://storage.googleapis.com/tensorflow/tf-keras-datasets/mnist.npz\n",
            "11493376/11490434 [==============================] - 0s 0us/step\n",
            "Data will be generated in :  /content/substra-examples/mnist/assets\n",
            "File created :  train_data/features/x_train.npy\n",
            "File created :  train_data/labels/y_train.npy\n",
            "File created :  test_data/features/x_test.npy\n",
            "File created :  test_data/labels/y_test.npy\n"
          ],
          "name": "stdout"
        }
      ]
    },
    {
      "cell_type": "markdown",
      "metadata": {
        "id": "ccjTJmyMPTiX",
        "colab_type": "text"
      },
      "source": [
        "\n",
        "\n",
        "This will create two sub-folders in the `assets` folder:\n",
        "\n",
        "* `train_data` contains train data features and labels as numpy array files\n",
        "* `test_data` contains test data features and labels as numpy array files\n",
        "\n",
        "## Writing the objective and data manager\n",
        "\n",
        "Both objective and data manager will need a proper markdown description, you can check them out in their respective\n",
        "folders. Notice that the data manager's description includes a formal description of the data structure.\n",
        "\n",
        "Notice also that the `metrics.py` and `opener.py` module both rely on classes imported from the `substratools` module.\n",
        "These classes provide a simple yet rigid structure that will make algorithms pretty easy to write.\n",
        "\n",
        "## Writing a simple algorithm\n",
        "\n",
        "You'll find under `assets/algo_cnn` an implementation of the cnn model in the [Keras example](https://keras.io/examples/vision/mnist_convnet/). Like the metrics and opener scripts, it relies on a\n",
        "class imported from `substratools` that greatly simplifies the writing process. You'll notice that it handles not only\n",
        "the train and predict tasks but also a lot of data preprocessing.\n",
        "\n"
      ]
    },
    {
      "cell_type": "markdown",
      "metadata": {
        "id": "tImaUQdlRDPv",
        "colab_type": "text"
      },
      "source": [
        "## Testing our assets\n",
        "\n",
        "### Using asset command line interfaces\n",
        "\n",
        "You can first test each assets with the `substratools` CLI, by running specific ML tasks in your local Python environment.\n",
        "\n"
      ]
    },
    {
      "cell_type": "markdown",
      "metadata": {
        "id": "2sKcqmkFUNvi",
        "colab_type": "text"
      },
      "source": [
        "#### Training task\n",
        "\n",
        "\n",
        "\n"
      ]
    },
    {
      "cell_type": "code",
      "metadata": {
        "id": "yby0gIzZRQx7",
        "colab_type": "code",
        "colab": {
          "base_uri": "https://localhost:8080/",
          "height": 1000
        },
        "outputId": "2d57df98-d1ca-4a0d-ffdb-78cc187b8e85"
      },
      "source": [
        "#train your model with the train_data\n",
        "! python assets/algo_cnn/algo.py train \\\n",
        "  --debug \\\n",
        "  --opener-path assets/dataset/opener.py \\\n",
        "  --data-samples-path assets/train_data \\\n",
        "  --output-model-path assets/model/model \\\n",
        "  --log-path assets/logs/train.log"
      ],
      "execution_count": null,
      "outputs": [
        {
          "output_type": "stream",
          "text": [
            "2020-08-06 15:25:36.539674: I tensorflow/stream_executor/platform/default/dso_loader.cc:48] Successfully opened dynamic library libcudart.so.10.1\n",
            "substratools.utils - Module 'opener' loaded from path 'assets/dataset/opener.py'\n",
            "substratools.opener - loading X from '['assets/train_data/labels', 'assets/train_data/features']'\n",
            "Finding features file...\n",
            "Loading features...\n",
            "substratools.opener - loading y from '['assets/train_data/labels', 'assets/train_data/features']'\n",
            "Finding label file...\n",
            "Loading labels...\n",
            "substratools.algo - launching training task\n",
            "X shape: (60000, 28, 28, 1)\n",
            "60000 samples\n",
            "2020-08-06 15:25:38.428123: I tensorflow/stream_executor/platform/default/dso_loader.cc:48] Successfully opened dynamic library libcuda.so.1\n",
            "2020-08-06 15:25:38.477338: I tensorflow/stream_executor/cuda/cuda_gpu_executor.cc:982] successful NUMA node read from SysFS had negative value (-1), but there must be at least one NUMA node, so returning NUMA node zero\n",
            "2020-08-06 15:25:38.478285: I tensorflow/core/common_runtime/gpu/gpu_device.cc:1716] Found device 0 with properties: \n",
            "pciBusID: 0000:00:04.0 name: Tesla P100-PCIE-16GB computeCapability: 6.0\n",
            "coreClock: 1.3285GHz coreCount: 56 deviceMemorySize: 15.90GiB deviceMemoryBandwidth: 681.88GiB/s\n",
            "2020-08-06 15:25:38.478331: I tensorflow/stream_executor/platform/default/dso_loader.cc:48] Successfully opened dynamic library libcudart.so.10.1\n",
            "2020-08-06 15:25:38.741957: I tensorflow/stream_executor/platform/default/dso_loader.cc:48] Successfully opened dynamic library libcublas.so.10\n",
            "2020-08-06 15:25:38.876596: I tensorflow/stream_executor/platform/default/dso_loader.cc:48] Successfully opened dynamic library libcufft.so.10\n",
            "2020-08-06 15:25:38.904956: I tensorflow/stream_executor/platform/default/dso_loader.cc:48] Successfully opened dynamic library libcurand.so.10\n",
            "2020-08-06 15:25:39.171976: I tensorflow/stream_executor/platform/default/dso_loader.cc:48] Successfully opened dynamic library libcusolver.so.10\n",
            "2020-08-06 15:25:39.200856: I tensorflow/stream_executor/platform/default/dso_loader.cc:48] Successfully opened dynamic library libcusparse.so.10\n",
            "2020-08-06 15:25:39.701257: I tensorflow/stream_executor/platform/default/dso_loader.cc:48] Successfully opened dynamic library libcudnn.so.7\n",
            "2020-08-06 15:25:39.701479: I tensorflow/stream_executor/cuda/cuda_gpu_executor.cc:982] successful NUMA node read from SysFS had negative value (-1), but there must be at least one NUMA node, so returning NUMA node zero\n",
            "2020-08-06 15:25:39.702495: I tensorflow/stream_executor/cuda/cuda_gpu_executor.cc:982] successful NUMA node read from SysFS had negative value (-1), but there must be at least one NUMA node, so returning NUMA node zero\n",
            "2020-08-06 15:25:39.703350: I tensorflow/core/common_runtime/gpu/gpu_device.cc:1858] Adding visible gpu devices: 0\n",
            "2020-08-06 15:25:39.722135: I tensorflow/core/platform/profile_utils/cpu_utils.cc:104] CPU Frequency: 2300000000 Hz\n",
            "2020-08-06 15:25:39.722584: I tensorflow/compiler/xla/service/service.cc:168] XLA service 0x2dd6a00 initialized for platform Host (this does not guarantee that XLA will be used). Devices:\n",
            "2020-08-06 15:25:39.722618: I tensorflow/compiler/xla/service/service.cc:176]   StreamExecutor device (0): Host, Default Version\n",
            "2020-08-06 15:25:39.872385: I tensorflow/stream_executor/cuda/cuda_gpu_executor.cc:982] successful NUMA node read from SysFS had negative value (-1), but there must be at least one NUMA node, so returning NUMA node zero\n",
            "2020-08-06 15:25:39.873688: I tensorflow/compiler/xla/service/service.cc:168] XLA service 0x2dd6bc0 initialized for platform CUDA (this does not guarantee that XLA will be used). Devices:\n",
            "2020-08-06 15:25:39.873729: I tensorflow/compiler/xla/service/service.cc:176]   StreamExecutor device (0): Tesla P100-PCIE-16GB, Compute Capability 6.0\n",
            "2020-08-06 15:25:39.874973: I tensorflow/stream_executor/cuda/cuda_gpu_executor.cc:982] successful NUMA node read from SysFS had negative value (-1), but there must be at least one NUMA node, so returning NUMA node zero\n",
            "2020-08-06 15:25:39.875880: I tensorflow/core/common_runtime/gpu/gpu_device.cc:1716] Found device 0 with properties: \n",
            "pciBusID: 0000:00:04.0 name: Tesla P100-PCIE-16GB computeCapability: 6.0\n",
            "coreClock: 1.3285GHz coreCount: 56 deviceMemorySize: 15.90GiB deviceMemoryBandwidth: 681.88GiB/s\n",
            "2020-08-06 15:25:39.875931: I tensorflow/stream_executor/platform/default/dso_loader.cc:48] Successfully opened dynamic library libcudart.so.10.1\n",
            "2020-08-06 15:25:39.875963: I tensorflow/stream_executor/platform/default/dso_loader.cc:48] Successfully opened dynamic library libcublas.so.10\n",
            "2020-08-06 15:25:39.875990: I tensorflow/stream_executor/platform/default/dso_loader.cc:48] Successfully opened dynamic library libcufft.so.10\n",
            "2020-08-06 15:25:39.876014: I tensorflow/stream_executor/platform/default/dso_loader.cc:48] Successfully opened dynamic library libcurand.so.10\n",
            "2020-08-06 15:25:39.876058: I tensorflow/stream_executor/platform/default/dso_loader.cc:48] Successfully opened dynamic library libcusolver.so.10\n",
            "2020-08-06 15:25:39.876081: I tensorflow/stream_executor/platform/default/dso_loader.cc:48] Successfully opened dynamic library libcusparse.so.10\n",
            "2020-08-06 15:25:39.876108: I tensorflow/stream_executor/platform/default/dso_loader.cc:48] Successfully opened dynamic library libcudnn.so.7\n",
            "2020-08-06 15:25:39.876198: I tensorflow/stream_executor/cuda/cuda_gpu_executor.cc:982] successful NUMA node read from SysFS had negative value (-1), but there must be at least one NUMA node, so returning NUMA node zero\n",
            "2020-08-06 15:25:39.877226: I tensorflow/stream_executor/cuda/cuda_gpu_executor.cc:982] successful NUMA node read from SysFS had negative value (-1), but there must be at least one NUMA node, so returning NUMA node zero\n",
            "2020-08-06 15:25:39.878103: I tensorflow/core/common_runtime/gpu/gpu_device.cc:1858] Adding visible gpu devices: 0\n",
            "2020-08-06 15:25:39.882029: I tensorflow/stream_executor/platform/default/dso_loader.cc:48] Successfully opened dynamic library libcudart.so.10.1\n",
            "2020-08-06 15:25:43.203987: I tensorflow/core/common_runtime/gpu/gpu_device.cc:1257] Device interconnect StreamExecutor with strength 1 edge matrix:\n",
            "2020-08-06 15:25:43.204070: I tensorflow/core/common_runtime/gpu/gpu_device.cc:1263]      0 \n",
            "2020-08-06 15:25:43.204103: I tensorflow/core/common_runtime/gpu/gpu_device.cc:1276] 0:   N \n",
            "2020-08-06 15:25:43.210204: I tensorflow/stream_executor/cuda/cuda_gpu_executor.cc:982] successful NUMA node read from SysFS had negative value (-1), but there must be at least one NUMA node, so returning NUMA node zero\n",
            "2020-08-06 15:25:43.211194: I tensorflow/stream_executor/cuda/cuda_gpu_executor.cc:982] successful NUMA node read from SysFS had negative value (-1), but there must be at least one NUMA node, so returning NUMA node zero\n",
            "2020-08-06 15:25:43.212060: W tensorflow/core/common_runtime/gpu/gpu_bfc_allocator.cc:39] Overriding allow_growth setting because the TF_FORCE_GPU_ALLOW_GROWTH environment variable is set. Original config value was 0.\n",
            "2020-08-06 15:25:43.212118: I tensorflow/core/common_runtime/gpu/gpu_device.cc:1402] Created TensorFlow device (/job:localhost/replica:0/task:0/device:GPU:0 with 14968 MB memory) -> physical GPU (device: 0, name: Tesla P100-PCIE-16GB, pci bus id: 0000:00:04.0, compute capability: 6.0)\n",
            "2020-08-06 15:25:44.101840: I tensorflow/stream_executor/platform/default/dso_loader.cc:48] Successfully opened dynamic library libcublas.so.10\n",
            "2020-08-06 15:25:45.592493: I tensorflow/stream_executor/platform/default/dso_loader.cc:48] Successfully opened dynamic library libcudnn.so.7\n",
            "422/422 [==============================] - 2s 4ms/step - loss: 0.3664 - accuracy: 0.8901 - val_loss: 0.0837 - val_accuracy: 0.9782\n",
            "substratools.algo - saving output model to 'assets/model/model'\n"
          ],
          "name": "stdout"
        }
      ]
    },
    {
      "cell_type": "code",
      "metadata": {
        "id": "5Pp7yN4YRYTy",
        "colab_type": "code",
        "colab": {
          "base_uri": "https://localhost:8080/",
          "height": 961
        },
        "outputId": "f079e98f-153b-425e-9f25-8d28eff07d23"
      },
      "source": [
        "#predict the labels of train_data with your previously trained model\n",
        "! python assets/algo_cnn/algo.py predict \\\n",
        "  --debug \\\n",
        "  --opener-path assets/dataset/opener.py \\\n",
        "  --data-samples-path assets/train_data \\\n",
        "  --output-predictions-path assets/pred-train.npy \\\n",
        "  --models-path assets/model/ \\\n",
        "  --log-path assets/logs/train_predict.log \\\n",
        "  model"
      ],
      "execution_count": null,
      "outputs": [
        {
          "output_type": "stream",
          "text": [
            "2020-08-06 15:26:22.241754: I tensorflow/stream_executor/platform/default/dso_loader.cc:48] Successfully opened dynamic library libcudart.so.10.1\n",
            "substratools.utils - Module 'opener' loaded from path 'assets/dataset/opener.py'\n",
            "substratools.opener - loading X from '['assets/train_data/labels', 'assets/train_data/features']'\n",
            "Finding features file...\n",
            "Loading features...\n",
            "substratools.algo - loading model from 'assets/model/model'\n",
            "2020-08-06 15:26:23.978733: I tensorflow/stream_executor/platform/default/dso_loader.cc:48] Successfully opened dynamic library libcuda.so.1\n",
            "2020-08-06 15:26:23.993240: I tensorflow/stream_executor/cuda/cuda_gpu_executor.cc:982] successful NUMA node read from SysFS had negative value (-1), but there must be at least one NUMA node, so returning NUMA node zero\n",
            "2020-08-06 15:26:23.994197: I tensorflow/core/common_runtime/gpu/gpu_device.cc:1716] Found device 0 with properties: \n",
            "pciBusID: 0000:00:04.0 name: Tesla P100-PCIE-16GB computeCapability: 6.0\n",
            "coreClock: 1.3285GHz coreCount: 56 deviceMemorySize: 15.90GiB deviceMemoryBandwidth: 681.88GiB/s\n",
            "2020-08-06 15:26:23.994240: I tensorflow/stream_executor/platform/default/dso_loader.cc:48] Successfully opened dynamic library libcudart.so.10.1\n",
            "2020-08-06 15:26:23.996048: I tensorflow/stream_executor/platform/default/dso_loader.cc:48] Successfully opened dynamic library libcublas.so.10\n",
            "2020-08-06 15:26:23.997709: I tensorflow/stream_executor/platform/default/dso_loader.cc:48] Successfully opened dynamic library libcufft.so.10\n",
            "2020-08-06 15:26:23.998043: I tensorflow/stream_executor/platform/default/dso_loader.cc:48] Successfully opened dynamic library libcurand.so.10\n",
            "2020-08-06 15:26:23.999622: I tensorflow/stream_executor/platform/default/dso_loader.cc:48] Successfully opened dynamic library libcusolver.so.10\n",
            "2020-08-06 15:26:24.000409: I tensorflow/stream_executor/platform/default/dso_loader.cc:48] Successfully opened dynamic library libcusparse.so.10\n",
            "2020-08-06 15:26:24.003799: I tensorflow/stream_executor/platform/default/dso_loader.cc:48] Successfully opened dynamic library libcudnn.so.7\n",
            "2020-08-06 15:26:24.003955: I tensorflow/stream_executor/cuda/cuda_gpu_executor.cc:982] successful NUMA node read from SysFS had negative value (-1), but there must be at least one NUMA node, so returning NUMA node zero\n",
            "2020-08-06 15:26:24.004947: I tensorflow/stream_executor/cuda/cuda_gpu_executor.cc:982] successful NUMA node read from SysFS had negative value (-1), but there must be at least one NUMA node, so returning NUMA node zero\n",
            "2020-08-06 15:26:24.005782: I tensorflow/core/common_runtime/gpu/gpu_device.cc:1858] Adding visible gpu devices: 0\n",
            "2020-08-06 15:26:24.011906: I tensorflow/core/platform/profile_utils/cpu_utils.cc:104] CPU Frequency: 2300000000 Hz\n",
            "2020-08-06 15:26:24.012419: I tensorflow/compiler/xla/service/service.cc:168] XLA service 0x1f94bc0 initialized for platform Host (this does not guarantee that XLA will be used). Devices:\n",
            "2020-08-06 15:26:24.012458: I tensorflow/compiler/xla/service/service.cc:176]   StreamExecutor device (0): Host, Default Version\n",
            "2020-08-06 15:26:24.103110: I tensorflow/stream_executor/cuda/cuda_gpu_executor.cc:982] successful NUMA node read from SysFS had negative value (-1), but there must be at least one NUMA node, so returning NUMA node zero\n",
            "2020-08-06 15:26:24.104334: I tensorflow/compiler/xla/service/service.cc:168] XLA service 0x1f95b80 initialized for platform CUDA (this does not guarantee that XLA will be used). Devices:\n",
            "2020-08-06 15:26:24.104376: I tensorflow/compiler/xla/service/service.cc:176]   StreamExecutor device (0): Tesla P100-PCIE-16GB, Compute Capability 6.0\n",
            "2020-08-06 15:26:24.104645: I tensorflow/stream_executor/cuda/cuda_gpu_executor.cc:982] successful NUMA node read from SysFS had negative value (-1), but there must be at least one NUMA node, so returning NUMA node zero\n",
            "2020-08-06 15:26:24.105491: I tensorflow/core/common_runtime/gpu/gpu_device.cc:1716] Found device 0 with properties: \n",
            "pciBusID: 0000:00:04.0 name: Tesla P100-PCIE-16GB computeCapability: 6.0\n",
            "coreClock: 1.3285GHz coreCount: 56 deviceMemorySize: 15.90GiB deviceMemoryBandwidth: 681.88GiB/s\n",
            "2020-08-06 15:26:24.105562: I tensorflow/stream_executor/platform/default/dso_loader.cc:48] Successfully opened dynamic library libcudart.so.10.1\n",
            "2020-08-06 15:26:24.105618: I tensorflow/stream_executor/platform/default/dso_loader.cc:48] Successfully opened dynamic library libcublas.so.10\n",
            "2020-08-06 15:26:24.105648: I tensorflow/stream_executor/platform/default/dso_loader.cc:48] Successfully opened dynamic library libcufft.so.10\n",
            "2020-08-06 15:26:24.105672: I tensorflow/stream_executor/platform/default/dso_loader.cc:48] Successfully opened dynamic library libcurand.so.10\n",
            "2020-08-06 15:26:24.105699: I tensorflow/stream_executor/platform/default/dso_loader.cc:48] Successfully opened dynamic library libcusolver.so.10\n",
            "2020-08-06 15:26:24.105721: I tensorflow/stream_executor/platform/default/dso_loader.cc:48] Successfully opened dynamic library libcusparse.so.10\n",
            "2020-08-06 15:26:24.105744: I tensorflow/stream_executor/platform/default/dso_loader.cc:48] Successfully opened dynamic library libcudnn.so.7\n",
            "2020-08-06 15:26:24.105839: I tensorflow/stream_executor/cuda/cuda_gpu_executor.cc:982] successful NUMA node read from SysFS had negative value (-1), but there must be at least one NUMA node, so returning NUMA node zero\n",
            "2020-08-06 15:26:24.106816: I tensorflow/stream_executor/cuda/cuda_gpu_executor.cc:982] successful NUMA node read from SysFS had negative value (-1), but there must be at least one NUMA node, so returning NUMA node zero\n",
            "2020-08-06 15:26:24.107671: I tensorflow/core/common_runtime/gpu/gpu_device.cc:1858] Adding visible gpu devices: 0\n",
            "2020-08-06 15:26:24.107718: I tensorflow/stream_executor/platform/default/dso_loader.cc:48] Successfully opened dynamic library libcudart.so.10.1\n",
            "2020-08-06 15:26:24.749380: I tensorflow/core/common_runtime/gpu/gpu_device.cc:1257] Device interconnect StreamExecutor with strength 1 edge matrix:\n",
            "2020-08-06 15:26:24.749443: I tensorflow/core/common_runtime/gpu/gpu_device.cc:1263]      0 \n",
            "2020-08-06 15:26:24.749466: I tensorflow/core/common_runtime/gpu/gpu_device.cc:1276] 0:   N \n",
            "2020-08-06 15:26:24.749724: I tensorflow/stream_executor/cuda/cuda_gpu_executor.cc:982] successful NUMA node read from SysFS had negative value (-1), but there must be at least one NUMA node, so returning NUMA node zero\n",
            "2020-08-06 15:26:24.750798: I tensorflow/stream_executor/cuda/cuda_gpu_executor.cc:982] successful NUMA node read from SysFS had negative value (-1), but there must be at least one NUMA node, so returning NUMA node zero\n",
            "2020-08-06 15:26:24.751646: W tensorflow/core/common_runtime/gpu/gpu_bfc_allocator.cc:39] Overriding allow_growth setting because the TF_FORCE_GPU_ALLOW_GROWTH environment variable is set. Original config value was 0.\n",
            "2020-08-06 15:26:24.751702: I tensorflow/core/common_runtime/gpu/gpu_device.cc:1402] Created TensorFlow device (/job:localhost/replica:0/task:0/device:GPU:0 with 14968 MB memory) -> physical GPU (device: 0, name: Tesla P100-PCIE-16GB, pci bus id: 0000:00:04.0, compute capability: 6.0)\n",
            "substratools.algo - launching predict task\n",
            "X shape: (60000, 28, 28, 1)\n",
            "60000 samples\n",
            "2020-08-06 15:26:25.100454: I tensorflow/stream_executor/platform/default/dso_loader.cc:48] Successfully opened dynamic library libcublas.so.10\n",
            "2020-08-06 15:26:25.370677: I tensorflow/stream_executor/platform/default/dso_loader.cc:48] Successfully opened dynamic library libcudnn.so.7\n",
            "substratools.opener - saving predictions to 'assets/pred-train.npy'\n"
          ],
          "name": "stdout"
        }
      ]
    },
    {
      "cell_type": "code",
      "metadata": {
        "id": "Nm6SnGQJRboG",
        "colab_type": "code",
        "colab": {
          "base_uri": "https://localhost:8080/",
          "height": 134
        },
        "outputId": "013b30ce-68eb-49e2-89c2-e91b221ff3c8"
      },
      "source": [
        "#calculate the score of your model on train_data predictions\n",
        "! python assets/objective/metrics.py \\\n",
        "  --debug \\\n",
        "  --opener-path assets/dataset/opener.py \\\n",
        "  --data-samples-path assets/train_data \\\n",
        "  --input-predictions-path assets/pred-train.npy \\\n",
        "  --output-perf-path assets/perf-train.json \\\n",
        "  --log-path assets/logs/train_metrics.log"
      ],
      "execution_count": null,
      "outputs": [
        {
          "output_type": "stream",
          "text": [
            "substratools.opener - loading y from '['assets/train_data/labels', 'assets/train_data/features']'\n",
            "Finding label file...\n",
            "Loading labels...\n",
            "substratools.opener - loading predictions from 'assets/pred-train.npy'\n",
            "substratools.metrics - launching scoring task\n",
            "substratools.metrics - score: 0.9719333333333333\n",
            "substratools.metrics - saving score to 'assets/perf-train.json'\n"
          ],
          "name": "stdout"
        }
      ]
    },
    {
      "cell_type": "markdown",
      "metadata": {
        "id": "711Mg8smVlEf",
        "colab_type": "text"
      },
      "source": [
        "#### Testing task"
      ]
    },
    {
      "cell_type": "code",
      "metadata": {
        "id": "vhoL2XIkVpjW",
        "colab_type": "code",
        "colab": {
          "base_uri": "https://localhost:8080/",
          "height": 961
        },
        "outputId": "9a29cf9c-6d6b-47bc-af84-c14eaf030bd7"
      },
      "source": [
        "#predict the labels of test_data with your previously trained model\n",
        "! python assets/algo_cnn/algo.py predict \\\n",
        "  --debug \\\n",
        "  --opener-path assets/dataset/opener.py \\\n",
        "  --data-samples-path assets/test_data \\\n",
        "  --output-predictions-path assets/pred-test.npy \\\n",
        "  --models-path assets/model/ \\\n",
        "  --log-path assets/logs/test_predict.log \\\n",
        "  model"
      ],
      "execution_count": null,
      "outputs": [
        {
          "output_type": "stream",
          "text": [
            "2020-08-06 15:26:36.543277: I tensorflow/stream_executor/platform/default/dso_loader.cc:48] Successfully opened dynamic library libcudart.so.10.1\n",
            "substratools.utils - Module 'opener' loaded from path 'assets/dataset/opener.py'\n",
            "substratools.opener - loading X from '['assets/test_data/labels', 'assets/test_data/features']'\n",
            "Finding features file...\n",
            "Loading features...\n",
            "substratools.algo - loading model from 'assets/model/model'\n",
            "2020-08-06 15:26:38.207609: I tensorflow/stream_executor/platform/default/dso_loader.cc:48] Successfully opened dynamic library libcuda.so.1\n",
            "2020-08-06 15:26:38.221735: I tensorflow/stream_executor/cuda/cuda_gpu_executor.cc:982] successful NUMA node read from SysFS had negative value (-1), but there must be at least one NUMA node, so returning NUMA node zero\n",
            "2020-08-06 15:26:38.222674: I tensorflow/core/common_runtime/gpu/gpu_device.cc:1716] Found device 0 with properties: \n",
            "pciBusID: 0000:00:04.0 name: Tesla P100-PCIE-16GB computeCapability: 6.0\n",
            "coreClock: 1.3285GHz coreCount: 56 deviceMemorySize: 15.90GiB deviceMemoryBandwidth: 681.88GiB/s\n",
            "2020-08-06 15:26:38.222717: I tensorflow/stream_executor/platform/default/dso_loader.cc:48] Successfully opened dynamic library libcudart.so.10.1\n",
            "2020-08-06 15:26:38.224327: I tensorflow/stream_executor/platform/default/dso_loader.cc:48] Successfully opened dynamic library libcublas.so.10\n",
            "2020-08-06 15:26:38.225779: I tensorflow/stream_executor/platform/default/dso_loader.cc:48] Successfully opened dynamic library libcufft.so.10\n",
            "2020-08-06 15:26:38.226138: I tensorflow/stream_executor/platform/default/dso_loader.cc:48] Successfully opened dynamic library libcurand.so.10\n",
            "2020-08-06 15:26:38.227723: I tensorflow/stream_executor/platform/default/dso_loader.cc:48] Successfully opened dynamic library libcusolver.so.10\n",
            "2020-08-06 15:26:38.228510: I tensorflow/stream_executor/platform/default/dso_loader.cc:48] Successfully opened dynamic library libcusparse.so.10\n",
            "2020-08-06 15:26:38.231892: I tensorflow/stream_executor/platform/default/dso_loader.cc:48] Successfully opened dynamic library libcudnn.so.7\n",
            "2020-08-06 15:26:38.232017: I tensorflow/stream_executor/cuda/cuda_gpu_executor.cc:982] successful NUMA node read from SysFS had negative value (-1), but there must be at least one NUMA node, so returning NUMA node zero\n",
            "2020-08-06 15:26:38.233021: I tensorflow/stream_executor/cuda/cuda_gpu_executor.cc:982] successful NUMA node read from SysFS had negative value (-1), but there must be at least one NUMA node, so returning NUMA node zero\n",
            "2020-08-06 15:26:38.233987: I tensorflow/core/common_runtime/gpu/gpu_device.cc:1858] Adding visible gpu devices: 0\n",
            "2020-08-06 15:26:38.239783: I tensorflow/core/platform/profile_utils/cpu_utils.cc:104] CPU Frequency: 2300000000 Hz\n",
            "2020-08-06 15:26:38.240317: I tensorflow/compiler/xla/service/service.cc:168] XLA service 0x1f6ebc0 initialized for platform Host (this does not guarantee that XLA will be used). Devices:\n",
            "2020-08-06 15:26:38.240352: I tensorflow/compiler/xla/service/service.cc:176]   StreamExecutor device (0): Host, Default Version\n",
            "2020-08-06 15:26:38.333191: I tensorflow/stream_executor/cuda/cuda_gpu_executor.cc:982] successful NUMA node read from SysFS had negative value (-1), but there must be at least one NUMA node, so returning NUMA node zero\n",
            "2020-08-06 15:26:38.334408: I tensorflow/compiler/xla/service/service.cc:168] XLA service 0x1f6fb80 initialized for platform CUDA (this does not guarantee that XLA will be used). Devices:\n",
            "2020-08-06 15:26:38.334449: I tensorflow/compiler/xla/service/service.cc:176]   StreamExecutor device (0): Tesla P100-PCIE-16GB, Compute Capability 6.0\n",
            "2020-08-06 15:26:38.334734: I tensorflow/stream_executor/cuda/cuda_gpu_executor.cc:982] successful NUMA node read from SysFS had negative value (-1), but there must be at least one NUMA node, so returning NUMA node zero\n",
            "2020-08-06 15:26:38.335673: I tensorflow/core/common_runtime/gpu/gpu_device.cc:1716] Found device 0 with properties: \n",
            "pciBusID: 0000:00:04.0 name: Tesla P100-PCIE-16GB computeCapability: 6.0\n",
            "coreClock: 1.3285GHz coreCount: 56 deviceMemorySize: 15.90GiB deviceMemoryBandwidth: 681.88GiB/s\n",
            "2020-08-06 15:26:38.335717: I tensorflow/stream_executor/platform/default/dso_loader.cc:48] Successfully opened dynamic library libcudart.so.10.1\n",
            "2020-08-06 15:26:38.335762: I tensorflow/stream_executor/platform/default/dso_loader.cc:48] Successfully opened dynamic library libcublas.so.10\n",
            "2020-08-06 15:26:38.335794: I tensorflow/stream_executor/platform/default/dso_loader.cc:48] Successfully opened dynamic library libcufft.so.10\n",
            "2020-08-06 15:26:38.335822: I tensorflow/stream_executor/platform/default/dso_loader.cc:48] Successfully opened dynamic library libcurand.so.10\n",
            "2020-08-06 15:26:38.335848: I tensorflow/stream_executor/platform/default/dso_loader.cc:48] Successfully opened dynamic library libcusolver.so.10\n",
            "2020-08-06 15:26:38.335874: I tensorflow/stream_executor/platform/default/dso_loader.cc:48] Successfully opened dynamic library libcusparse.so.10\n",
            "2020-08-06 15:26:38.335897: I tensorflow/stream_executor/platform/default/dso_loader.cc:48] Successfully opened dynamic library libcudnn.so.7\n",
            "2020-08-06 15:26:38.335987: I tensorflow/stream_executor/cuda/cuda_gpu_executor.cc:982] successful NUMA node read from SysFS had negative value (-1), but there must be at least one NUMA node, so returning NUMA node zero\n",
            "2020-08-06 15:26:38.336882: I tensorflow/stream_executor/cuda/cuda_gpu_executor.cc:982] successful NUMA node read from SysFS had negative value (-1), but there must be at least one NUMA node, so returning NUMA node zero\n",
            "2020-08-06 15:26:38.337775: I tensorflow/core/common_runtime/gpu/gpu_device.cc:1858] Adding visible gpu devices: 0\n",
            "2020-08-06 15:26:38.337829: I tensorflow/stream_executor/platform/default/dso_loader.cc:48] Successfully opened dynamic library libcudart.so.10.1\n",
            "2020-08-06 15:26:38.975755: I tensorflow/core/common_runtime/gpu/gpu_device.cc:1257] Device interconnect StreamExecutor with strength 1 edge matrix:\n",
            "2020-08-06 15:26:38.975814: I tensorflow/core/common_runtime/gpu/gpu_device.cc:1263]      0 \n",
            "2020-08-06 15:26:38.975827: I tensorflow/core/common_runtime/gpu/gpu_device.cc:1276] 0:   N \n",
            "2020-08-06 15:26:38.976045: I tensorflow/stream_executor/cuda/cuda_gpu_executor.cc:982] successful NUMA node read from SysFS had negative value (-1), but there must be at least one NUMA node, so returning NUMA node zero\n",
            "2020-08-06 15:26:38.977097: I tensorflow/stream_executor/cuda/cuda_gpu_executor.cc:982] successful NUMA node read from SysFS had negative value (-1), but there must be at least one NUMA node, so returning NUMA node zero\n",
            "2020-08-06 15:26:38.978105: W tensorflow/core/common_runtime/gpu/gpu_bfc_allocator.cc:39] Overriding allow_growth setting because the TF_FORCE_GPU_ALLOW_GROWTH environment variable is set. Original config value was 0.\n",
            "2020-08-06 15:26:38.978166: I tensorflow/core/common_runtime/gpu/gpu_device.cc:1402] Created TensorFlow device (/job:localhost/replica:0/task:0/device:GPU:0 with 14968 MB memory) -> physical GPU (device: 0, name: Tesla P100-PCIE-16GB, pci bus id: 0000:00:04.0, compute capability: 6.0)\n",
            "substratools.algo - launching predict task\n",
            "X shape: (10000, 28, 28, 1)\n",
            "10000 samples\n",
            "2020-08-06 15:26:39.254945: I tensorflow/stream_executor/platform/default/dso_loader.cc:48] Successfully opened dynamic library libcublas.so.10\n",
            "2020-08-06 15:26:39.519706: I tensorflow/stream_executor/platform/default/dso_loader.cc:48] Successfully opened dynamic library libcudnn.so.7\n",
            "substratools.opener - saving predictions to 'assets/pred-test.npy'\n"
          ],
          "name": "stdout"
        }
      ]
    },
    {
      "cell_type": "code",
      "metadata": {
        "id": "pFXL-iIFVrkR",
        "colab_type": "code",
        "colab": {
          "base_uri": "https://localhost:8080/",
          "height": 134
        },
        "outputId": "b9da4bc3-8d63-484c-b77b-9b73bfdb0ab6"
      },
      "source": [
        "#calculate the score of your model on test_data predictions\n",
        "! python assets/objective/metrics.py \\\n",
        "  --debug \\\n",
        "  --opener-path assets/dataset/opener.py \\\n",
        "  --data-samples-path assets/test_data \\\n",
        "  --input-predictions-path assets/pred-test.npy \\\n",
        "  --output-perf-path assets/perf-test.json \\\n",
        "  --log-path assets/logs/test_metrics.log"
      ],
      "execution_count": null,
      "outputs": [
        {
          "output_type": "stream",
          "text": [
            "substratools.opener - loading y from '['assets/test_data/labels', 'assets/test_data/features']'\n",
            "Finding label file...\n",
            "Loading labels...\n",
            "substratools.opener - loading predictions from 'assets/pred-test.npy'\n",
            "substratools.metrics - launching scoring task\n",
            "substratools.metrics - score: 0.9728\n",
            "substratools.metrics - saving score to 'assets/perf-test.json'\n"
          ],
          "name": "stdout"
        }
      ]
    },
    {
      "cell_type": "markdown",
      "metadata": {
        "id": "e56pBMUsRfHw",
        "colab_type": "text"
      },
      "source": [
        "### Using substra cli\n",
        "\n",
        "Before pushing our assets to the platform, we need to make sure they work well. To do so, we can run them locally in a\n",
        "Docker container. This way, if the training fails, we can access the logs and debug our code.\n",
        "\n",
        "To test the assets, we'll use `substra run-local`, passing it paths to our algorithm of course, but also the opener,\n",
        "the metrics and to the data samples we want to use. It will launch a training task on the train data, a prediction task on the test data and return the accuracy score.\n"
      ]
    },
    {
      "cell_type": "code",
      "metadata": {
        "id": "ZsVjUgrvYziC",
        "colab_type": "code",
        "colab": {}
      },
      "source": [
        "#you will need Docker to run this (not available in Colab)\n",
        "! substra run-local assets/algo_cnn \\\n",
        "  --train-opener=assets/dataset/opener.py \\\n",
        "  --test-opener=assets/dataset/opener.py \\\n",
        "  --metrics=assets/objective/ \\\n",
        "  --train-data-samples=assets/train_data \\\n",
        "  --test-data-samples=assets/test_data"
      ],
      "execution_count": null,
      "outputs": []
    },
    {
      "cell_type": "markdown",
      "metadata": {
        "id": "1nYflmdBWB_y",
        "colab_type": "text"
      },
      "source": [
        "At the end of this step, you'll find in the newly created `sandbox/model` folder a `model` file that contains your\n",
        "trained model. There is also a `sandbox/pred_train` folder that contains both the predictions made by the model on\n",
        "train data and the associated performance.\n"
      ]
    },
    {
      "cell_type": "markdown",
      "metadata": {
        "id": "Hljsxt1PWEAr",
        "colab_type": "text"
      },
      "source": [
        "#### Debugging\n",
        "\n",
        "It's more than probable that your code won't run perfectly the first time. Since runs happen in dockers, you can't\n",
        "debug using prints. Instead, you should use the `logging` module from python. All logs can then be consulted at the end\n",
        "of the run in  `sandbox/model/log_model.log`.\n",
        "\n",
        "## Adding the assets to substra\n",
        "\n",
        "### Adding the objective, dataset and data samples to substra\n",
        "\n",
        "A script has been written that adds objective, data manager and data samples to substra. It uses the `substra` python\n",
        "sdk to perform actions. It's main goal is to create assets, get their keys and use these keys in the creation of other\n",
        "assets.\n",
        "\n",
        "To run it:\n"
      ]
    },
    {
      "cell_type": "code",
      "metadata": {
        "id": "jNSaDP9iWLyy",
        "colab_type": "code",
        "colab": {}
      },
      "source": [
        "! python scripts/add_dataset_objective.py"
      ],
      "execution_count": null,
      "outputs": []
    },
    {
      "cell_type": "markdown",
      "metadata": {
        "id": "BP7PUXTyWVt0",
        "colab_type": "text"
      },
      "source": [
        "This script just generated an `assets_keys.json` file in the `mnist` folder. This file contains the keys of all assets\n",
        "we've just created and organizes the keys of the train data samples in folds. This file will be used as input when\n",
        "adding an algorithm so that we can automatically launch all training and testing tasks.\n"
      ]
    },
    {
      "cell_type": "markdown",
      "metadata": {
        "id": "iF3ykfHVWYum",
        "colab_type": "text"
      },
      "source": [
        "### Adding the algorithm and training it\n",
        "\n",
        "The script `add_train_algo_cnn.py` pushes our simple algo to substra and then uses the `assets_keys.json` file\n",
        "we just generated to train it against the dataset and objective we previously set up. It will then update the\n",
        "`assets_keys.json` file with the newly created assets keys (algo, traintuple and testtuple)\n",
        "\n",
        "To run it:"
      ]
    },
    {
      "cell_type": "code",
      "metadata": {
        "id": "cpnh9e_yWVC_",
        "colab_type": "code",
        "colab": {}
      },
      "source": [
        "! python scripts/add_train_algo_cnn.py"
      ],
      "execution_count": null,
      "outputs": []
    },
    {
      "cell_type": "markdown",
      "metadata": {
        "id": "v9kc1CyBWaxJ",
        "colab_type": "text"
      },
      "source": [
        "It will end by providing a couple of commands you can use to track the progress of the train and test tuples as well\n",
        "as the associated scores. Alternatively, you can browse the frontend to look up progress and scores."
      ]
    }
  ]
}
